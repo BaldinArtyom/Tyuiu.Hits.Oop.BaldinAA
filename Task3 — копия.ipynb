{
 "cells": [
  {
   "cell_type": "markdown",
   "metadata": {},
   "source": [
    "<h1 style=\"color:DodgerBlue\">Индивидальный проект</h1>"
   ]
  },
  {
   "cell_type": "markdown",
   "metadata": {},
   "source": [
    "<h2 style=\"color:DodgerBlue\">Название проекта:</h2>\n",
    "\n",
    "----\n",
    "\n",
    "### Вариант задания №4\n"
   ]
  },
  {
   "cell_type": "markdown",
   "metadata": {},
   "source": [
    "<h2 style=\"color:DodgerBlue\">Описание проекта:</h2>\n",
    "\n",
    "----\n",
    "\n",
    "\n",
    "Описание задачи:\n",
    "Создать базовый класс Product в C#, который будет представлять информацию о\n",
    "продуктах. На основе этого класса разработать 2-3 производных класса,\n",
    "демонстрирующих принципы наследования и полиморфизма. В каждом из классов\n",
    "должны быть реализованы новые атрибуты и методы, а также переопределены\n",
    "некоторые методы базового класса для демонстрации полиморфизма.\n",
    "\n",
    "Требования к базовому классу Product:\n",
    "• Атрибуты: Название (Name), Цена (Price), Производитель (Manufacturer).\n",
    "• Методы:\n",
    "o GetInfo(): метод для получения информации о продукте в виде строки.\n",
    "o Discount(): метод для применения скидки к цене продукта.\n",
    "o Display(): метод для отображения информации о продукте на экране.\n",
    "\n",
    "Требования к производным классам:\n",
    "1. Электроника (Electronics): Должен содержать дополнительные атрибуты,\n",
    "такие как Гарантийный срок (WarrantyPeriod). Метод Discount() должен быть\n",
    "переопределен для добавления логики учета гарантийного срока при\n",
    "применении скидки.\n",
    "2. Одежда (Clothing): Должен содержать дополнительные атрибуты, такие как\n",
    "Размер (Size). Метод Display() должен быть переопределен для добавления\n",
    "информации о размере при отображении информации о продукте.\n",
    "3. Книги (Books) (если требуется третий класс): Должен содержать\n",
    "дополнительные атрибуты, такие как Автор (Author). Метод GetInfo() должен\n",
    "быть переопределен для включения информации об авторе в описании\n",
    "продукта.\n"
   ]
  },
  {
   "cell_type": "markdown",
   "metadata": {},
   "source": [
    "<h2 style=\"color:DodgerBlue\">Реализация:</h2>\n",
    "\n",
    "----"
   ]
  },
  {
   "cell_type": "code",
   "execution_count": 2,
   "metadata": {
    "dotnet_interactive": {
     "language": "csharp"
    },
    "polyglot_notebook": {
     "kernelName": "csharp"
    }
   },
   "outputs": [
    {
     "name": "stdout",
     "output_type": "stream",
     "text": [
      "Название: Смартфон, Цена: 25000 руб., Производитель: Samsung\n",
      "Скидка 5% применена. Новая цена: 23750 руб.\n",
      "Гарантийный срок: 24 мес.\n",
      "Название: Футболка, Цена: 1200 руб., Производитель: Nike, Размер: L\n",
      "Скидка 15% применена. Новая цена: 1020 руб.\n",
      "Название: C# для начинающих, Цена: 800 руб., Производитель: Эксмо, Автор: Иван Иванов\n",
      "Скидка 5% применена. Новая цена: 760 руб.\n"
     ]
    }
   ],
   "source": [
    "// Базовый класс Product\n",
    "public class Product\n",
    "{\n",
    "    public string Name { get; set; }\n",
    "    public double Price { get; set; }\n",
    "    public string Manufacturer { get; set; }\n",
    "\n",
    "    public virtual string GetInfo()\n",
    "    {\n",
    "        return $\"Название: {Name}, Цена: {Price} руб., Производитель: {Manufacturer}\";\n",
    "    }\n",
    "\n",
    "    public virtual void Discount(double percent)\n",
    "    {\n",
    "        Price -= Price * percent / 100.0;\n",
    "        Console.WriteLine($\"Скидка {percent}% применена. Новая цена: {Price} руб.\");\n",
    "    }\n",
    "\n",
    "    public virtual void Display()\n",
    "    {\n",
    "        Console.WriteLine(GetInfo());\n",
    "    }\n",
    "}\n",
    "\n",
    "// Electronics\n",
    "public class Electronics : Product\n",
    "{\n",
    "    public int WarrantyPeriod { get; set; } // в месяцах\n",
    "\n",
    "    public override void Discount(double percent)\n",
    "    {\n",
    "        // Если гарантия больше 12 месяцев, скидка уменьшается на 5%\n",
    "        double actualPercent = WarrantyPeriod > 12 ? Math.Max(0, percent - 5) : percent;\n",
    "        base.Discount(actualPercent);\n",
    "        Console.WriteLine($\"Гарантийный срок: {WarrantyPeriod} мес.\");\n",
    "    }\n",
    "}\n",
    "\n",
    "// Clothing\n",
    "public class Clothing : Product\n",
    "{\n",
    "    public string Size { get; set; }\n",
    "\n",
    "    public override void Display()\n",
    "    {\n",
    "        Console.WriteLine($\"{GetInfo()}, Размер: {Size}\");\n",
    "    }\n",
    "}\n",
    "\n",
    "// Books\n",
    "public class Books : Product\n",
    "{\n",
    "    public string Author { get; set; }\n",
    "\n",
    "    public override string GetInfo()\n",
    "    {\n",
    "        return base.GetInfo() + $\", Автор: {Author}\";\n",
    "    }\n",
    "}\n",
    "\n",
    "// Пример использования:\n",
    "var phone = new Electronics\n",
    "{\n",
    "    Name = \"Смартфон\",\n",
    "    Price = 25000,\n",
    "    Manufacturer = \"Samsung\",\n",
    "    WarrantyPeriod = 24\n",
    "};\n",
    "phone.Display();\n",
    "phone.Discount(10);\n",
    "\n",
    "var tshirt = new Clothing\n",
    "{\n",
    "    Name = \"Футболка\",\n",
    "    Price = 1200,\n",
    "    Manufacturer = \"Nike\",\n",
    "    Size = \"L\"\n",
    "};\n",
    "tshirt.Display();\n",
    "tshirt.Discount(15);\n",
    "\n",
    "var book = new Books\n",
    "{\n",
    "    Name = \"C# для начинающих\",\n",
    "    Price = 800,\n",
    "    Manufacturer = \"Эксмо\",\n",
    "    Author = \"Иван Иванов\"\n",
    "};\n",
    "book.Display();\n",
    "book.Discount(5);"
   ]
  }
 ],
 "metadata": {
  "kernelspec": {
   "display_name": ".NET (C#)",
   "language": "C#",
   "name": ".net-csharp"
  },
  "polyglot_notebook": {
   "kernelInfo": {
    "defaultKernelName": "csharp",
    "items": [
     {
      "aliases": [],
      "languageName": "csharp",
      "name": "csharp"
     }
    ]
   }
  }
 },
 "nbformat": 4,
 "nbformat_minor": 2
}
